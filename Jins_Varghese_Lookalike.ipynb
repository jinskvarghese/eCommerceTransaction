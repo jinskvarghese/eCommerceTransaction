{
 "cells": [
  {
   "cell_type": "code",
   "execution_count": 9,
   "metadata": {},
   "outputs": [],
   "source": [
    "import pandas as pd\n",
    "from sklearn.metrics.pairwise import cosine_similarity\n",
    "from sklearn.feature_extraction.text import CountVectorizer\n",
    "from sklearn.preprocessing import StandardScaler\n",
    "import numpy as np"
   ]
  },
  {
   "cell_type": "code",
   "execution_count": 10,
   "metadata": {},
   "outputs": [],
   "source": [
    "customers_path = './data/Customers.csv'\n",
    "products_path = './data/Products.csv'\n",
    "transactions_path = './data/Transactions.csv'\n",
    "customers = pd.read_csv(customers_path)\n",
    "products = pd.read_csv(products_path)\n",
    "transactions = pd.read_csv(transactions_path)"
   ]
  },
  {
   "cell_type": "code",
   "execution_count": 11,
   "metadata": {},
   "outputs": [],
   "source": [
    "data = transactions.merge(products, on='ProductID', how='left')\n",
    "data = data.merge(customers, on='CustomerID', how='left')\n",
    "data['transaction_date'] = pd.to_datetime(data['TransactionDate'])\n",
    "data['total_value'] = data['TotalValue']\n",
    "data['transaction_id'] = data['TransactionID']"
   ]
  },
  {
   "cell_type": "code",
   "execution_count": 12,
   "metadata": {},
   "outputs": [],
   "source": [
    "customer_product_matrix = data.pivot_table(index='CustomerID', columns='ProductID', values='Quantity', fill_value=0)\n",
    "collaborative_similarity = cosine_similarity(customer_product_matrix)\n",
    "collab_similarity_df = pd.DataFrame(collaborative_similarity, index=customer_product_matrix.index, columns=customer_product_matrix.index)"
   ]
  },
  {
   "cell_type": "code",
   "execution_count": 13,
   "metadata": {},
   "outputs": [],
   "source": [
    "customers['profile'] = customers['Region'] + ' ' + customers['SignupDate'].astype(str)\n",
    "vectorizer = CountVectorizer()\n",
    "profile_matrix = vectorizer.fit_transform(customers['profile'])\n",
    "content_similarity = cosine_similarity(profile_matrix)\n",
    "content_similarity_df = pd.DataFrame(content_similarity, index=customers['CustomerID'], columns=customers['CustomerID'])"
   ]
  },
  {
   "cell_type": "code",
   "execution_count": 14,
   "metadata": {},
   "outputs": [],
   "source": [
    "collab_weight = 0.7\n",
    "content_weight = 0.3\n",
    "ensemble_similarity = (collab_weight * collab_similarity_df + content_weight * content_similarity_df)"
   ]
  },
  {
   "cell_type": "code",
   "execution_count": 15,
   "metadata": {},
   "outputs": [],
   "source": [
    "def get_top_n_lookalikes(customer_id, similarity_df, n=3):\n",
    "    scores = similarity_df[customer_id].sort_values(ascending=False).iloc[1:n+1]\n",
    "    return list(zip(scores.index, scores.values))\n",
    "\n",
    "lookalike_results = {}\n",
    "for customer_id in ensemble_similarity.index[:20]: \n",
    "    lookalike_results[customer_id] = get_top_n_lookalikes(customer_id, ensemble_similarity)"
   ]
  },
  {
   "cell_type": "code",
   "execution_count": 16,
   "metadata": {},
   "outputs": [
    {
     "name": "stdout",
     "output_type": "stream",
     "text": [
      "Lookalike Model completed. Results saved to Jins_Varghese_Lookalike.csv\n"
     ]
    }
   ],
   "source": [
    "lookalike_output = []\n",
    "for cust_id, lookalikes in lookalike_results.items():\n",
    "    cust_transactions = data[data['CustomerID'] == cust_id][['transaction_date', 'transaction_id', 'total_value']].drop_duplicates()\n",
    "    for similar_cust_id, score in lookalikes:\n",
    "        lookalike_output.append({\n",
    "            'cust_id': cust_id,\n",
    "            'similar_cust_id': similar_cust_id,\n",
    "            'score': score,\n",
    "            'transaction_date': cust_transactions['transaction_date'].max() if not cust_transactions.empty else None,\n",
    "            'transaction_id': cust_transactions['transaction_id'].max() if not cust_transactions.empty else None,\n",
    "            'total_value': cust_transactions['total_value'].sum() if not cust_transactions.empty else 0\n",
    "        })\n",
    "\n",
    "lookalike_df = pd.DataFrame(lookalike_output)\n",
    "lookalike_df.to_csv('Jins_Varghese_Lookalike.csv', index=False)\n",
    "\n",
    "print(\"Lookalike Model completed. Results saved to Jins_Varghese_Lookalike.csv\")\n"
   ]
  }
 ],
 "metadata": {
  "kernelspec": {
   "display_name": "Python 3",
   "language": "python",
   "name": "python3"
  },
  "language_info": {
   "codemirror_mode": {
    "name": "ipython",
    "version": 3
   },
   "file_extension": ".py",
   "mimetype": "text/x-python",
   "name": "python",
   "nbconvert_exporter": "python",
   "pygments_lexer": "ipython3",
   "version": "3.12.5"
  }
 },
 "nbformat": 4,
 "nbformat_minor": 2
}
