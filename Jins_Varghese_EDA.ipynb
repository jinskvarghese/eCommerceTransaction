{
 "cells": [
  {
   "cell_type": "code",
   "execution_count": 5,
   "metadata": {},
   "outputs": [],
   "source": [
    "import pandas as pd\n",
    "import numpy as np\n",
    "import matplotlib.pyplot as plt\n",
    "import seaborn as sns"
   ]
  },
  {
   "cell_type": "code",
   "execution_count": 4,
   "metadata": {},
   "outputs": [
    {
     "name": "stdout",
     "output_type": "stream",
     "text": [
      "Collecting pandas\n",
      "  Using cached pandas-2.2.3-cp312-cp312-win_amd64.whl.metadata (19 kB)\n",
      "Collecting numpy\n",
      "  Downloading numpy-2.2.2-cp312-cp312-win_amd64.whl.metadata (60 kB)\n",
      "Collecting matplotlib\n",
      "  Downloading matplotlib-3.10.0-cp312-cp312-win_amd64.whl.metadata (11 kB)\n",
      "Collecting seaborn\n",
      "  Downloading seaborn-0.13.2-py3-none-any.whl.metadata (5.4 kB)\n",
      "Collecting scikit-learn\n",
      "  Downloading scikit_learn-1.6.1-cp312-cp312-win_amd64.whl.metadata (15 kB)\n",
      "Requirement already satisfied: python-dateutil>=2.8.2 in c:\\users\\admin\\appdata\\roaming\\python\\python312\\site-packages (from pandas) (2.9.0.post0)\n",
      "Collecting pytz>=2020.1 (from pandas)\n",
      "  Using cached pytz-2024.2-py2.py3-none-any.whl.metadata (22 kB)\n",
      "Collecting tzdata>=2022.7 (from pandas)\n",
      "  Downloading tzdata-2025.1-py2.py3-none-any.whl.metadata (1.4 kB)\n",
      "Collecting contourpy>=1.0.1 (from matplotlib)\n",
      "  Downloading contourpy-1.3.1-cp312-cp312-win_amd64.whl.metadata (5.4 kB)\n",
      "Collecting cycler>=0.10 (from matplotlib)\n",
      "  Downloading cycler-0.12.1-py3-none-any.whl.metadata (3.8 kB)\n",
      "Collecting fonttools>=4.22.0 (from matplotlib)\n",
      "  Downloading fonttools-4.55.6-cp312-cp312-win_amd64.whl.metadata (169 kB)\n",
      "Collecting kiwisolver>=1.3.1 (from matplotlib)\n",
      "  Downloading kiwisolver-1.4.8-cp312-cp312-win_amd64.whl.metadata (6.3 kB)\n",
      "Requirement already satisfied: packaging>=20.0 in c:\\users\\admin\\appdata\\roaming\\python\\python312\\site-packages (from matplotlib) (24.2)\n",
      "Collecting pillow>=8 (from matplotlib)\n",
      "  Using cached pillow-11.1.0-cp312-cp312-win_amd64.whl.metadata (9.3 kB)\n",
      "Collecting pyparsing>=2.3.1 (from matplotlib)\n",
      "  Downloading pyparsing-3.2.1-py3-none-any.whl.metadata (5.0 kB)\n",
      "Collecting scipy>=1.6.0 (from scikit-learn)\n",
      "  Downloading scipy-1.15.1-cp312-cp312-win_amd64.whl.metadata (60 kB)\n",
      "Collecting joblib>=1.2.0 (from scikit-learn)\n",
      "  Using cached joblib-1.4.2-py3-none-any.whl.metadata (5.4 kB)\n",
      "Collecting threadpoolctl>=3.1.0 (from scikit-learn)\n",
      "  Using cached threadpoolctl-3.5.0-py3-none-any.whl.metadata (13 kB)\n",
      "Requirement already satisfied: six>=1.5 in c:\\users\\admin\\appdata\\roaming\\python\\python312\\site-packages (from python-dateutil>=2.8.2->pandas) (1.17.0)\n",
      "Using cached pandas-2.2.3-cp312-cp312-win_amd64.whl (11.5 MB)\n",
      "Downloading numpy-2.2.2-cp312-cp312-win_amd64.whl (12.6 MB)\n",
      "   ---------------------------------------- 0.0/12.6 MB ? eta -:--:--\n",
      "   ---- ----------------------------------- 1.6/12.6 MB 8.4 MB/s eta 0:00:02\n",
      "   ----- ---------------------------------- 1.8/12.6 MB 9.1 MB/s eta 0:00:02\n",
      "   ----- ---------------------------------- 1.8/12.6 MB 9.1 MB/s eta 0:00:02\n",
      "   -------------- ------------------------- 4.5/12.6 MB 5.5 MB/s eta 0:00:02\n",
      "   -------------------- ------------------- 6.6/12.6 MB 6.6 MB/s eta 0:00:01\n",
      "   ----------------------------- ---------- 9.2/12.6 MB 7.6 MB/s eta 0:00:01\n",
      "   ------------------------------------- -- 11.8/12.6 MB 8.3 MB/s eta 0:00:01\n",
      "   ---------------------------------------  12.6/12.6 MB 8.5 MB/s eta 0:00:01\n",
      "   ---------------------------------------  12.6/12.6 MB 8.5 MB/s eta 0:00:01\n",
      "   ---------------------------------------  12.6/12.6 MB 8.5 MB/s eta 0:00:01\n",
      "   ---------------------------------------  12.6/12.6 MB 8.5 MB/s eta 0:00:01\n",
      "   ---------------------------------------  12.6/12.6 MB 8.5 MB/s eta 0:00:01\n",
      "   ---------------------------------------  12.6/12.6 MB 8.5 MB/s eta 0:00:01\n",
      "   ---------------------------------------  12.6/12.6 MB 8.5 MB/s eta 0:00:01\n",
      "   ---------------------------------------  12.6/12.6 MB 8.5 MB/s eta 0:00:01\n",
      "   ---------------------------------------  12.6/12.6 MB 8.5 MB/s eta 0:00:01\n",
      "   ---------------------------------------  12.6/12.6 MB 8.5 MB/s eta 0:00:01\n",
      "   ---------------------------------------  12.6/12.6 MB 8.5 MB/s eta 0:00:01\n",
      "   ---------------------------------------  12.6/12.6 MB 8.5 MB/s eta 0:00:01\n",
      "   ---------------------------------------  12.6/12.6 MB 8.5 MB/s eta 0:00:01\n",
      "   ---------------------------------------  12.6/12.6 MB 8.5 MB/s eta 0:00:01\n",
      "   ---------------------------------------  12.6/12.6 MB 8.5 MB/s eta 0:00:01\n",
      "   ---------------------------------------  12.6/12.6 MB 8.5 MB/s eta 0:00:01\n",
      "   ---------------------------------------  12.6/12.6 MB 8.5 MB/s eta 0:00:01\n",
      "   ---------------------------------------  12.6/12.6 MB 8.5 MB/s eta 0:00:01\n",
      "   ---------------------------------------  12.6/12.6 MB 8.5 MB/s eta 0:00:01\n",
      "   ---------------------------------------  12.6/12.6 MB 8.5 MB/s eta 0:00:01\n",
      "   ---------------------------------------  12.6/12.6 MB 8.5 MB/s eta 0:00:01\n",
      "   ---------------------------------------  12.6/12.6 MB 8.5 MB/s eta 0:00:01\n",
      "   ---------------------------------------  12.6/12.6 MB 8.5 MB/s eta 0:00:01\n",
      "   ---------------------------------------  12.6/12.6 MB 8.5 MB/s eta 0:00:01\n",
      "   ---------------------------------------  12.6/12.6 MB 8.5 MB/s eta 0:00:01\n",
      "   ---------------------------------------  12.6/12.6 MB 8.5 MB/s eta 0:00:01\n",
      "   ---------------------------------------  12.6/12.6 MB 8.5 MB/s eta 0:00:01\n",
      "   ---------------------------------------  12.6/12.6 MB 8.5 MB/s eta 0:00:01\n",
      "   ---------------------------------------  12.6/12.6 MB 8.5 MB/s eta 0:00:01\n",
      "   ---------------------------------------  12.6/12.6 MB 8.5 MB/s eta 0:00:01\n",
      "   ---------------------------------------  12.6/12.6 MB 8.5 MB/s eta 0:00:01\n",
      "   ---------------------------------------  12.6/12.6 MB 8.5 MB/s eta 0:00:01\n",
      "   ---------------------------------------  12.6/12.6 MB 8.5 MB/s eta 0:00:01\n",
      "   ---------------------------------------  12.6/12.6 MB 8.5 MB/s eta 0:00:01\n",
      "   ---------------------------------------  12.6/12.6 MB 8.5 MB/s eta 0:00:01\n",
      "   ---------------------------------------  12.6/12.6 MB 8.5 MB/s eta 0:00:01\n",
      "   ---------------------------------------  12.6/12.6 MB 8.5 MB/s eta 0:00:01\n",
      "   ---------------------------------------  12.6/12.6 MB 8.5 MB/s eta 0:00:01\n",
      "   ---------------------------------------  12.6/12.6 MB 8.5 MB/s eta 0:00:01\n",
      "   ---------------------------------------  12.6/12.6 MB 8.5 MB/s eta 0:00:01\n",
      "   ---------------------------------------  12.6/12.6 MB 8.5 MB/s eta 0:00:01\n",
      "   ---------------------------------------  12.6/12.6 MB 8.5 MB/s eta 0:00:01\n",
      "   ---------------------------------------  12.6/12.6 MB 8.5 MB/s eta 0:00:01\n",
      "   ---------------------------------------  12.6/12.6 MB 8.5 MB/s eta 0:00:01\n",
      "   ---------------------------------------  12.6/12.6 MB 8.5 MB/s eta 0:00:01\n",
      "   ---------------------------------------  12.6/12.6 MB 8.5 MB/s eta 0:00:01\n",
      "   ---------------------------------------  12.6/12.6 MB 8.5 MB/s eta 0:00:01\n",
      "   ---------------------------------------  12.6/12.6 MB 8.5 MB/s eta 0:00:01\n",
      "   ---------------------------------------  12.6/12.6 MB 8.5 MB/s eta 0:00:01\n",
      "   ---------------------------------------  12.6/12.6 MB 8.5 MB/s eta 0:00:01\n",
      "   ---------------------------------------  12.6/12.6 MB 8.5 MB/s eta 0:00:01\n",
      "   ---------------------------------------  12.6/12.6 MB 8.5 MB/s eta 0:00:01\n",
      "   ---------------------------------------  12.6/12.6 MB 8.5 MB/s eta 0:00:01\n",
      "   ---------------------------------------  12.6/12.6 MB 8.5 MB/s eta 0:00:01\n",
      "   ---------------------------------------  12.6/12.6 MB 8.5 MB/s eta 0:00:01\n",
      "   ---------------------------------------  12.6/12.6 MB 8.5 MB/s eta 0:00:01\n",
      "   ---------------------------------------  12.6/12.6 MB 8.5 MB/s eta 0:00:01\n",
      "   ---------------------------------------  12.6/12.6 MB 8.5 MB/s eta 0:00:01\n",
      "   ---------------------------------------  12.6/12.6 MB 8.5 MB/s eta 0:00:01\n",
      "   ---------------------------------------  12.6/12.6 MB 8.5 MB/s eta 0:00:01\n",
      "   ---------------------------------------  12.6/12.6 MB 8.5 MB/s eta 0:00:01\n",
      "   ---------------------------------------  12.6/12.6 MB 8.5 MB/s eta 0:00:01\n",
      "   ---------------------------------------  12.6/12.6 MB 8.5 MB/s eta 0:00:01\n",
      "   ---------------------------------------  12.6/12.6 MB 8.5 MB/s eta 0:00:01\n",
      "   ---------------------------------------  12.6/12.6 MB 8.5 MB/s eta 0:00:01\n",
      "   ---------------------------------------  12.6/12.6 MB 8.5 MB/s eta 0:00:01\n",
      "   ---------------------------------------  12.6/12.6 MB 8.5 MB/s eta 0:00:01\n",
      "   ---------------------------------------  12.6/12.6 MB 8.5 MB/s eta 0:00:01\n",
      "   ---------------------------------------  12.6/12.6 MB 8.5 MB/s eta 0:00:01\n",
      "   ---------------------------------------  12.6/12.6 MB 8.5 MB/s eta 0:00:01\n",
      "   ---------------------------------------  12.6/12.6 MB 8.5 MB/s eta 0:00:01\n",
      "   ---------------------------------------  12.6/12.6 MB 8.5 MB/s eta 0:00:01\n",
      "   ---------------------------------------  12.6/12.6 MB 8.5 MB/s eta 0:00:01\n",
      "   ---------------------------------------  12.6/12.6 MB 8.5 MB/s eta 0:00:01\n",
      "   ---------------------------------------  12.6/12.6 MB 8.5 MB/s eta 0:00:01\n",
      "   ---------------------------------------  12.6/12.6 MB 8.5 MB/s eta 0:00:01\n",
      "   ---------------------------------------  12.6/12.6 MB 8.5 MB/s eta 0:00:01\n",
      "   ---------------------------------------  12.6/12.6 MB 8.5 MB/s eta 0:00:01\n",
      "   ---------------------------------------  12.6/12.6 MB 8.5 MB/s eta 0:00:01\n",
      "   ---------------------------------------  12.6/12.6 MB 8.5 MB/s eta 0:00:01\n",
      "   ---------------------------------------  12.6/12.6 MB 8.5 MB/s eta 0:00:01\n",
      "   ---------------------------------------  12.6/12.6 MB 8.5 MB/s eta 0:00:01\n",
      "   ---------------------------------------  12.6/12.6 MB 8.5 MB/s eta 0:00:01\n",
      "   ---------------------------------------  12.6/12.6 MB 8.5 MB/s eta 0:00:01\n",
      "   ---------------------------------------  12.6/12.6 MB 8.5 MB/s eta 0:00:01\n",
      "   ---------------------------------------  12.6/12.6 MB 8.5 MB/s eta 0:00:01\n",
      "   ---------------------------------------  12.6/12.6 MB 8.5 MB/s eta 0:00:01\n",
      "   ---------------------------------------  12.6/12.6 MB 8.5 MB/s eta 0:00:01\n",
      "   ---------------------------------------  12.6/12.6 MB 8.5 MB/s eta 0:00:01\n",
      "   ---------------------------------------  12.6/12.6 MB 8.5 MB/s eta 0:00:01\n",
      "   ---------------------------------------  12.6/12.6 MB 8.5 MB/s eta 0:00:01\n",
      "   ---------------------------------------  12.6/12.6 MB 8.5 MB/s eta 0:00:01\n",
      "   ---------------------------------------  12.6/12.6 MB 8.5 MB/s eta 0:00:01\n",
      "   ---------------------------------------  12.6/12.6 MB 8.5 MB/s eta 0:00:01\n",
      "   ---------------------------------------  12.6/12.6 MB 8.5 MB/s eta 0:00:01\n",
      "   ---------------------------------------  12.6/12.6 MB 8.5 MB/s eta 0:00:01\n",
      "   ---------------------------------------  12.6/12.6 MB 8.5 MB/s eta 0:00:01\n",
      "   ---------------------------------------  12.6/12.6 MB 8.5 MB/s eta 0:00:01\n",
      "   ---------------------------------------  12.6/12.6 MB 8.5 MB/s eta 0:00:01\n",
      "   ---------------------------------------  12.6/12.6 MB 8.5 MB/s eta 0:00:01\n",
      "   ---------------------------------------  12.6/12.6 MB 8.5 MB/s eta 0:00:01\n",
      "   ---------------------------------------  12.6/12.6 MB 8.5 MB/s eta 0:00:01\n",
      "   ---------------------------------------  12.6/12.6 MB 8.5 MB/s eta 0:00:01\n",
      "   ---------------------------------------  12.6/12.6 MB 8.5 MB/s eta 0:00:01\n",
      "   ---------------------------------------  12.6/12.6 MB 8.5 MB/s eta 0:00:01\n",
      "   ---------------------------------------  12.6/12.6 MB 8.5 MB/s eta 0:00:01\n",
      "   ---------------------------------------  12.6/12.6 MB 8.5 MB/s eta 0:00:01\n",
      "   ---------------------------------------  12.6/12.6 MB 8.5 MB/s eta 0:00:01\n",
      "   ---------------------------------------  12.6/12.6 MB 8.5 MB/s eta 0:00:01\n",
      "   ---------------------------------------  12.6/12.6 MB 8.5 MB/s eta 0:00:01\n",
      "   ---------------------------------------  12.6/12.6 MB 8.5 MB/s eta 0:00:01\n",
      "   ---------------------------------------  12.6/12.6 MB 8.5 MB/s eta 0:00:01\n",
      "   ---------------------------------------  12.6/12.6 MB 8.5 MB/s eta 0:00:01\n",
      "   ---------------------------------------  12.6/12.6 MB 8.5 MB/s eta 0:00:01\n",
      "   ---------------------------------------  12.6/12.6 MB 8.5 MB/s eta 0:00:01\n",
      "   ---------------------------------------  12.6/12.6 MB 8.5 MB/s eta 0:00:01\n",
      "   ---------------------------------------  12.6/12.6 MB 8.5 MB/s eta 0:00:01\n",
      "   ---------------------------------------  12.6/12.6 MB 8.5 MB/s eta 0:00:01\n",
      "   ---------------------------------------  12.6/12.6 MB 8.5 MB/s eta 0:00:01\n",
      "   ---------------------------------------  12.6/12.6 MB 8.5 MB/s eta 0:00:01\n",
      "   ---------------------------------------  12.6/12.6 MB 8.5 MB/s eta 0:00:01\n",
      "   ---------------------------------------  12.6/12.6 MB 8.5 MB/s eta 0:00:01\n",
      "   ---------------------------------------  12.6/12.6 MB 8.5 MB/s eta 0:00:01\n",
      "   ---------------------------------------  12.6/12.6 MB 8.5 MB/s eta 0:00:01\n",
      "   ---------------------------------------  12.6/12.6 MB 8.5 MB/s eta 0:00:01\n",
      "   ---------------------------------------  12.6/12.6 MB 8.5 MB/s eta 0:00:01\n",
      "   ---------------------------------------  12.6/12.6 MB 8.5 MB/s eta 0:00:01\n",
      "   ---------------------------------------  12.6/12.6 MB 8.5 MB/s eta 0:00:01\n",
      "   ---------------------------------------  12.6/12.6 MB 8.5 MB/s eta 0:00:01\n",
      "   ---------------------------------------  12.6/12.6 MB 8.5 MB/s eta 0:00:01\n",
      "   ---------------------------------------  12.6/12.6 MB 8.5 MB/s eta 0:00:01\n",
      "   ---------------------------------------  12.6/12.6 MB 8.5 MB/s eta 0:00:01\n",
      "   ---------------------------------------  12.6/12.6 MB 8.5 MB/s eta 0:00:01\n",
      "   ---------------------------------------  12.6/12.6 MB 8.5 MB/s eta 0:00:01\n",
      "   ---------------------------------------  12.6/12.6 MB 8.5 MB/s eta 0:00:01\n",
      "   ---------------------------------------  12.6/12.6 MB 8.5 MB/s eta 0:00:01\n",
      "   ---------------------------------------  12.6/12.6 MB 8.5 MB/s eta 0:00:01\n",
      "   ---------------------------------------  12.6/12.6 MB 8.5 MB/s eta 0:00:01\n",
      "   ---------------------------------------  12.6/12.6 MB 8.5 MB/s eta 0:00:01\n",
      "   ---------------------------------------  12.6/12.6 MB 8.5 MB/s eta 0:00:01\n",
      "   ---------------------------------------  12.6/12.6 MB 8.5 MB/s eta 0:00:01\n",
      "   ---------------------------------------  12.6/12.6 MB 8.5 MB/s eta 0:00:01\n",
      "   ---------------------------------------  12.6/12.6 MB 8.5 MB/s eta 0:00:01\n",
      "   ---------------------------------------  12.6/12.6 MB 8.5 MB/s eta 0:00:01\n",
      "   ---------------------------------------  12.6/12.6 MB 8.5 MB/s eta 0:00:01\n",
      "   ---------------------------------------  12.6/12.6 MB 8.5 MB/s eta 0:00:01\n",
      "   ---------------------------------------  12.6/12.6 MB 8.5 MB/s eta 0:00:01\n",
      "   ---------------------------------------  12.6/12.6 MB 8.5 MB/s eta 0:00:01\n",
      "   ---------------------------------------  12.6/12.6 MB 8.5 MB/s eta 0:00:01\n",
      "   ---------------------------------------  12.6/12.6 MB 8.5 MB/s eta 0:00:01\n",
      "   ---------------------------------------  12.6/12.6 MB 8.5 MB/s eta 0:00:01\n",
      "   ---------------------------------------  12.6/12.6 MB 8.5 MB/s eta 0:00:01\n",
      "   ---------------------------------------  12.6/12.6 MB 8.5 MB/s eta 0:00:01\n",
      "   ---------------------------------------  12.6/12.6 MB 8.5 MB/s eta 0:00:01\n",
      "   ---------------------------------------  12.6/12.6 MB 8.5 MB/s eta 0:00:01\n",
      "   ---------------------------------------  12.6/12.6 MB 8.5 MB/s eta 0:00:01\n",
      "   ---------------------------------------  12.6/12.6 MB 8.5 MB/s eta 0:00:01\n",
      "   ---------------------------------------  12.6/12.6 MB 8.5 MB/s eta 0:00:01\n",
      "   ---------------------------------------  12.6/12.6 MB 8.5 MB/s eta 0:00:01\n",
      "   ---------------------------------------  12.6/12.6 MB 8.5 MB/s eta 0:00:01\n",
      "   ---------------------------------------  12.6/12.6 MB 8.5 MB/s eta 0:00:01\n",
      "   ---------------------------------------  12.6/12.6 MB 8.5 MB/s eta 0:00:01\n",
      "   ---------------------------------------  12.6/12.6 MB 8.5 MB/s eta 0:00:01\n",
      "   ---------------------------------------  12.6/12.6 MB 8.5 MB/s eta 0:00:01\n",
      "   ---------------------------------------  12.6/12.6 MB 8.5 MB/s eta 0:00:01\n",
      "   ---------------------------------------  12.6/12.6 MB 8.5 MB/s eta 0:00:01\n",
      "   ---------------------------------------  12.6/12.6 MB 8.5 MB/s eta 0:00:01\n",
      "   ---------------------------------------  12.6/12.6 MB 8.5 MB/s eta 0:00:01\n",
      "   ---------------------------------------  12.6/12.6 MB 8.5 MB/s eta 0:00:01\n",
      "   ---------------------------------------  12.6/12.6 MB 8.5 MB/s eta 0:00:01\n",
      "   ---------------------------------------  12.6/12.6 MB 8.5 MB/s eta 0:00:01\n",
      "   ---------------------------------------  12.6/12.6 MB 8.5 MB/s eta 0:00:01\n",
      "   ---------------------------------------  12.6/12.6 MB 8.5 MB/s eta 0:00:01\n",
      "   ---------------------------------------  12.6/12.6 MB 8.5 MB/s eta 0:00:01\n",
      "   ---------------------------------------  12.6/12.6 MB 8.5 MB/s eta 0:00:01\n",
      "   ---------------------------------------  12.6/12.6 MB 8.5 MB/s eta 0:00:01\n",
      "   ---------------------------------------  12.6/12.6 MB 8.5 MB/s eta 0:00:01\n",
      "   ---------------------------------------  12.6/12.6 MB 8.5 MB/s eta 0:00:01\n",
      "   ---------------------------------------  12.6/12.6 MB 8.5 MB/s eta 0:00:01\n",
      "   ---------------------------------------  12.6/12.6 MB 8.5 MB/s eta 0:00:01\n",
      "   ---------------------------------------  12.6/12.6 MB 8.5 MB/s eta 0:00:01\n",
      "   ---------------------------------------  12.6/12.6 MB 8.5 MB/s eta 0:00:01\n",
      "   ---------------------------------------  12.6/12.6 MB 8.5 MB/s eta 0:00:01\n",
      "   ---------------------------------------  12.6/12.6 MB 8.5 MB/s eta 0:00:01\n",
      "   ---------------------------------------  12.6/12.6 MB 8.5 MB/s eta 0:00:01\n",
      "   ---------------------------------------  12.6/12.6 MB 8.5 MB/s eta 0:00:01\n",
      "   ---------------------------------------  12.6/12.6 MB 8.5 MB/s eta 0:00:01\n",
      "   ---------------------------------------  12.6/12.6 MB 8.5 MB/s eta 0:00:01\n",
      "   ---------------------------------------  12.6/12.6 MB 8.5 MB/s eta 0:00:01\n",
      "   ---------------------------------------  12.6/12.6 MB 8.5 MB/s eta 0:00:01\n",
      "   ---------------------------------------  12.6/12.6 MB 8.5 MB/s eta 0:00:01\n",
      "   ---------------------------------------  12.6/12.6 MB 8.5 MB/s eta 0:00:01\n",
      "   ---------------------------------------  12.6/12.6 MB 8.5 MB/s eta 0:00:01\n",
      "   ---------------------------------------  12.6/12.6 MB 8.5 MB/s eta 0:00:01\n",
      "   ---------------------------------------  12.6/12.6 MB 8.5 MB/s eta 0:00:01\n",
      "   ---------------------------------------  12.6/12.6 MB 8.5 MB/s eta 0:00:01\n",
      "   ---------------------------------------  12.6/12.6 MB 8.5 MB/s eta 0:00:01\n",
      "   ---------------------------------------  12.6/12.6 MB 8.5 MB/s eta 0:00:01\n",
      "   ---------------------------------------  12.6/12.6 MB 8.5 MB/s eta 0:00:01\n",
      "   ---------------------------------------  12.6/12.6 MB 8.5 MB/s eta 0:00:01\n",
      "   ---------------------------------------  12.6/12.6 MB 8.5 MB/s eta 0:00:01\n",
      "   ---------------------------------------  12.6/12.6 MB 8.5 MB/s eta 0:00:01\n",
      "   ---------------------------------------  12.6/12.6 MB 8.5 MB/s eta 0:00:01\n",
      "   ---------------------------------------  12.6/12.6 MB 8.5 MB/s eta 0:00:01\n",
      "   ---------------------------------------  12.6/12.6 MB 8.5 MB/s eta 0:00:01\n",
      "   ---------------------------------------  12.6/12.6 MB 8.5 MB/s eta 0:00:01\n",
      "   ---------------------------------------  12.6/12.6 MB 8.5 MB/s eta 0:00:01\n",
      "   ---------------------------------------  12.6/12.6 MB 8.5 MB/s eta 0:00:01\n",
      "   ---------------------------------------  12.6/12.6 MB 8.5 MB/s eta 0:00:01\n",
      "   ---------------------------------------  12.6/12.6 MB 8.5 MB/s eta 0:00:01\n",
      "   ---------------------------------------  12.6/12.6 MB 8.5 MB/s eta 0:00:01\n",
      "   ---------------------------------------  12.6/12.6 MB 8.5 MB/s eta 0:00:01\n",
      "   ---------------------------------------  12.6/12.6 MB 8.5 MB/s eta 0:00:01\n",
      "   ---------------------------------------  12.6/12.6 MB 8.5 MB/s eta 0:00:01\n",
      "   ---------------------------------------  12.6/12.6 MB 8.5 MB/s eta 0:00:01\n",
      "   ---------------------------------------  12.6/12.6 MB 8.5 MB/s eta 0:00:01\n",
      "   ---------------------------------------  12.6/12.6 MB 8.5 MB/s eta 0:00:01\n",
      "   ---------------------------------------- 12.6/12.6 MB ? eta 0:00:00\n",
      "Downloading matplotlib-3.10.0-cp312-cp312-win_amd64.whl (8.0 MB)\n",
      "   ---------------------------------------- 0.0/8.0 MB ? eta -:--:--\n",
      "   ----------- ---------------------------- 2.4/8.0 MB 12.2 MB/s eta 0:00:01\n",
      "   ----------------------- ---------------- 4.7/8.0 MB 11.9 MB/s eta 0:00:01\n",
      "   ----------------------------------- ---- 7.1/8.0 MB 11.8 MB/s eta 0:00:01\n",
      "   ---------------------------------------- 8.0/8.0 MB 11.1 MB/s eta 0:00:00\n",
      "Downloading seaborn-0.13.2-py3-none-any.whl (294 kB)\n",
      "Downloading scikit_learn-1.6.1-cp312-cp312-win_amd64.whl (11.1 MB)\n",
      "   ---------------------------------------- 0.0/11.1 MB ? eta -:--:--\n",
      "   - -------------------------------------- 0.5/11.1 MB 8.2 MB/s eta 0:00:02\n",
      "   -------------- ------------------------- 3.9/11.1 MB 9.8 MB/s eta 0:00:01\n",
      "   ---------------------- ----------------- 6.3/11.1 MB 10.4 MB/s eta 0:00:01\n",
      "   ------------------------------- -------- 8.7/11.1 MB 10.7 MB/s eta 0:00:01\n",
      "   ---------------------------------------  11.0/11.1 MB 11.1 MB/s eta 0:00:01\n",
      "   ---------------------------------------- 11.1/11.1 MB 9.8 MB/s eta 0:00:00\n",
      "Downloading contourpy-1.3.1-cp312-cp312-win_amd64.whl (220 kB)\n",
      "Downloading cycler-0.12.1-py3-none-any.whl (8.3 kB)\n",
      "Downloading fonttools-4.55.6-cp312-cp312-win_amd64.whl (2.2 MB)\n",
      "   ---------------------------------------- 0.0/2.2 MB ? eta -:--:--\n",
      "   ------------------------------------- -- 2.1/2.2 MB 11.8 MB/s eta 0:00:01\n",
      "   ---------------------------------------- 2.2/2.2 MB 9.6 MB/s eta 0:00:00\n",
      "Using cached joblib-1.4.2-py3-none-any.whl (301 kB)\n",
      "Downloading kiwisolver-1.4.8-cp312-cp312-win_amd64.whl (71 kB)\n",
      "Using cached pillow-11.1.0-cp312-cp312-win_amd64.whl (2.6 MB)\n",
      "Downloading pyparsing-3.2.1-py3-none-any.whl (107 kB)\n",
      "Using cached pytz-2024.2-py2.py3-none-any.whl (508 kB)\n",
      "Downloading scipy-1.15.1-cp312-cp312-win_amd64.whl (43.6 MB)\n",
      "   ---------------------------------------- 0.0/43.6 MB ? eta -:--:--\n",
      "   -- ------------------------------------- 2.4/43.6 MB 12.2 MB/s eta 0:00:04\n",
      "   ---- ----------------------------------- 5.0/43.6 MB 12.1 MB/s eta 0:00:04\n",
      "   ------ --------------------------------- 7.3/43.6 MB 11.9 MB/s eta 0:00:04\n",
      "   -------- ------------------------------- 9.7/43.6 MB 11.8 MB/s eta 0:00:03\n",
      "   ----------- ---------------------------- 12.3/43.6 MB 11.9 MB/s eta 0:00:03\n",
      "   ------------- -------------------------- 14.7/43.6 MB 11.8 MB/s eta 0:00:03\n",
      "   --------------- ------------------------ 17.3/43.6 MB 11.8 MB/s eta 0:00:03\n",
      "   ------------------ --------------------- 19.7/43.6 MB 11.8 MB/s eta 0:00:03\n",
      "   -------------------- ------------------- 22.0/43.6 MB 11.8 MB/s eta 0:00:02\n",
      "   ---------------------- ----------------- 24.6/43.6 MB 11.8 MB/s eta 0:00:02\n",
      "   ------------------------ --------------- 27.0/43.6 MB 11.8 MB/s eta 0:00:02\n",
      "   -------------------------- ------------- 29.4/43.6 MB 11.8 MB/s eta 0:00:02\n",
      "   ----------------------------- ---------- 32.0/43.6 MB 11.8 MB/s eta 0:00:01\n",
      "   ------------------------------- -------- 34.3/43.6 MB 11.8 MB/s eta 0:00:01\n",
      "   --------------------------------- ------ 36.7/43.6 MB 11.8 MB/s eta 0:00:01\n",
      "   ------------------------------------ --- 39.3/43.6 MB 11.8 MB/s eta 0:00:01\n",
      "   -------------------------------------- - 41.7/43.6 MB 11.8 MB/s eta 0:00:01\n",
      "   ---------------------------------------  43.5/43.6 MB 11.8 MB/s eta 0:00:01\n",
      "   ---------------------------------------- 43.6/43.6 MB 11.3 MB/s eta 0:00:00\n",
      "Using cached threadpoolctl-3.5.0-py3-none-any.whl (18 kB)\n",
      "Downloading tzdata-2025.1-py2.py3-none-any.whl (346 kB)\n",
      "Installing collected packages: pytz, tzdata, threadpoolctl, pyparsing, pillow, numpy, kiwisolver, joblib, fonttools, cycler, scipy, pandas, contourpy, scikit-learn, matplotlib, seaborn\n",
      "Successfully installed contourpy-1.3.1 cycler-0.12.1 fonttools-4.55.6 joblib-1.4.2 kiwisolver-1.4.8 matplotlib-3.10.0 numpy-2.2.2 pandas-2.2.3 pillow-11.1.0 pyparsing-3.2.1 pytz-2024.2 scikit-learn-1.6.1 scipy-1.15.1 seaborn-0.13.2 threadpoolctl-3.5.0 tzdata-2025.1\n",
      "Note: you may need to restart the kernel to use updated packages.\n"
     ]
    },
    {
     "name": "stderr",
     "output_type": "stream",
     "text": [
      "\n",
      "[notice] A new release of pip is available: 24.2 -> 25.0\n",
      "[notice] To update, run: python.exe -m pip install --upgrade pip\n"
     ]
    }
   ],
   "source": [
    "pip install pandas numpy matplotlib seaborn scikit-learn"
   ]
  },
  {
   "cell_type": "code",
   "execution_count": 6,
   "metadata": {},
   "outputs": [],
   "source": [
    "customers_path = './data/Customers.csv'\n",
    "products_path = './data/Products.csv'\n",
    "transactions_path = './data/Transactions.csv'"
   ]
  },
  {
   "cell_type": "code",
   "execution_count": 7,
   "metadata": {},
   "outputs": [],
   "source": [
    "customers = pd.read_csv(customers_path)\n",
    "products = pd.read_csv(products_path)\n",
    "transactions = pd.read_csv(transactions_path)"
   ]
  },
  {
   "cell_type": "code",
   "execution_count": 8,
   "metadata": {},
   "outputs": [
    {
     "name": "stdout",
     "output_type": "stream",
     "text": [
      "Customers Dataset\n",
      "<class 'pandas.core.frame.DataFrame'>\n",
      "RangeIndex: 200 entries, 0 to 199\n",
      "Data columns (total 4 columns):\n",
      " #   Column        Non-Null Count  Dtype \n",
      "---  ------        --------------  ----- \n",
      " 0   CustomerID    200 non-null    object\n",
      " 1   CustomerName  200 non-null    object\n",
      " 2   Region        200 non-null    object\n",
      " 3   SignupDate    200 non-null    object\n",
      "dtypes: object(4)\n",
      "memory usage: 6.4+ KB\n",
      "None\n",
      "\n",
      "Products Dataset\n",
      "<class 'pandas.core.frame.DataFrame'>\n",
      "RangeIndex: 100 entries, 0 to 99\n",
      "Data columns (total 4 columns):\n",
      " #   Column       Non-Null Count  Dtype  \n",
      "---  ------       --------------  -----  \n",
      " 0   ProductID    100 non-null    object \n",
      " 1   ProductName  100 non-null    object \n",
      " 2   Category     100 non-null    object \n",
      " 3   Price        100 non-null    float64\n",
      "dtypes: float64(1), object(3)\n",
      "memory usage: 3.3+ KB\n",
      "None\n",
      "\n",
      "Transactions Dataset\n",
      "<class 'pandas.core.frame.DataFrame'>\n",
      "RangeIndex: 1000 entries, 0 to 999\n",
      "Data columns (total 7 columns):\n",
      " #   Column           Non-Null Count  Dtype  \n",
      "---  ------           --------------  -----  \n",
      " 0   TransactionID    1000 non-null   object \n",
      " 1   CustomerID       1000 non-null   object \n",
      " 2   ProductID        1000 non-null   object \n",
      " 3   TransactionDate  1000 non-null   object \n",
      " 4   Quantity         1000 non-null   int64  \n",
      " 5   TotalValue       1000 non-null   float64\n",
      " 6   Price            1000 non-null   float64\n",
      "dtypes: float64(2), int64(1), object(4)\n",
      "memory usage: 54.8+ KB\n",
      "None\n"
     ]
    }
   ],
   "source": [
    "print(\"Customers Dataset\")\n",
    "print(customers.info())\n",
    "print(\"\\nProducts Dataset\")\n",
    "print(products.info())\n",
    "print(\"\\nTransactions Dataset\")\n",
    "print(transactions.info())"
   ]
  },
  {
   "cell_type": "code",
   "execution_count": 9,
   "metadata": {},
   "outputs": [
    {
     "name": "stdout",
     "output_type": "stream",
     "text": [
      "\n",
      "Missing Values in Customers:\n",
      "CustomerID      0\n",
      "CustomerName    0\n",
      "Region          0\n",
      "SignupDate      0\n",
      "dtype: int64\n",
      "\n",
      "Missing Values in Products:\n",
      "ProductID      0\n",
      "ProductName    0\n",
      "Category       0\n",
      "Price          0\n",
      "dtype: int64\n",
      "\n",
      "Missing Values in Transactions:\n",
      "TransactionID      0\n",
      "CustomerID         0\n",
      "ProductID          0\n",
      "TransactionDate    0\n",
      "Quantity           0\n",
      "TotalValue         0\n",
      "Price              0\n",
      "dtype: int64\n"
     ]
    }
   ],
   "source": [
    "print(\"\\nMissing Values in Customers:\")\n",
    "print(customers.isnull().sum())\n",
    "print(\"\\nMissing Values in Products:\")\n",
    "print(products.isnull().sum())\n",
    "print(\"\\nMissing Values in Transactions:\")\n",
    "print(transactions.isnull().sum())"
   ]
  },
  {
   "cell_type": "code",
   "execution_count": 10,
   "metadata": {},
   "outputs": [],
   "source": [
    "customers['SignupDate'] = pd.to_datetime(customers['SignupDate'])\n",
    "transactions['TransactionDate'] = pd.to_datetime(transactions['TransactionDate'])"
   ]
  },
  {
   "cell_type": "code",
   "execution_count": 11,
   "metadata": {},
   "outputs": [],
   "source": [
    "customers.drop_duplicates(subset='CustomerID', inplace=True)\n",
    "products.drop_duplicates(subset='ProductID', inplace=True)\n",
    "transactions.drop_duplicates(subset='TransactionID', inplace=True)"
   ]
  },
  {
   "cell_type": "code",
   "execution_count": 12,
   "metadata": {},
   "outputs": [
    {
     "name": "stdout",
     "output_type": "stream",
     "text": [
      "Warning: Discrepancies found in TotalValue calculation.\n",
      "\n",
      "Merged Data Sample:\n",
      "  TransactionID CustomerID ProductID     TransactionDate  Quantity  \\\n",
      "0        T00001      C0199      P067 2024-08-25 12:38:23         1   \n",
      "1        T00112      C0146      P067 2024-05-27 22:23:54         1   \n",
      "2        T00166      C0127      P067 2024-04-25 07:38:55         1   \n",
      "3        T00272      C0087      P067 2024-03-26 22:55:37         2   \n",
      "4        T00363      C0070      P067 2024-03-21 15:10:10         3   \n",
      "\n",
      "   TotalValue  Price_x  CalculatedValue     CustomerName         Region  \\\n",
      "0      300.68   300.68           300.68   Andrea Jenkins         Europe   \n",
      "1      300.68   300.68           300.68  Brittany Harvey           Asia   \n",
      "2      300.68   300.68           300.68  Kathryn Stevens         Europe   \n",
      "3      601.36   300.68           601.36  Travis Campbell  South America   \n",
      "4      902.04   300.68           902.04    Timothy Perez         Europe   \n",
      "\n",
      "  SignupDate                      ProductName     Category  Price_y  \n",
      "0 2022-12-03  ComfortLiving Bluetooth Speaker  Electronics   300.68  \n",
      "1 2024-09-04  ComfortLiving Bluetooth Speaker  Electronics   300.68  \n",
      "2 2024-04-04  ComfortLiving Bluetooth Speaker  Electronics   300.68  \n",
      "3 2024-04-11  ComfortLiving Bluetooth Speaker  Electronics   300.68  \n",
      "4 2022-03-15  ComfortLiving Bluetooth Speaker  Electronics   300.68  \n"
     ]
    }
   ],
   "source": [
    "transactions['CalculatedValue'] = transactions['Quantity'] * transactions['Price']\n",
    "if not all(transactions['CalculatedValue'] == transactions['TotalValue']):\n",
    "    print(\"Warning: Discrepancies found in TotalValue calculation.\")\n",
    "\n",
    "merged_data = transactions.merge(customers, on='CustomerID').merge(products, on='ProductID')\n",
    "\n",
    "print(\"\\nMerged Data Sample:\")\n",
    "print(merged_data.head())"
   ]
  },
  {
   "cell_type": "code",
   "execution_count": 13,
   "metadata": {},
   "outputs": [
    {
     "data": {
      "text/plain": [
       "<Figure size 1200x600 with 0 Axes>"
      ]
     },
     "execution_count": 13,
     "metadata": {},
     "output_type": "execute_result"
    },
    {
     "data": {
      "text/plain": [
       "<Figure size 1200x600 with 0 Axes>"
      ]
     },
     "metadata": {},
     "output_type": "display_data"
    }
   ],
   "source": [
    "sns.set(style=\"whitegrid\")\n",
    "plt.figure(figsize=(12, 6))"
   ]
  },
  {
   "cell_type": "code",
   "execution_count": 14,
   "metadata": {},
   "outputs": [
    {
     "data": {
      "image/png": "[encoded data removed]",
      "text/plain": [
       "<Figure size 640x480 with 1 Axes>"
      ]
     },
     "metadata": {},
     "output_type": "display_data"
    }
   ],
   "source": [
    "sns.countplot(data=products, x='Category', order=products['Category'].value_counts().index)\n",
    "plt.title(\"Product Categories Distribution\")\n",
    "plt.xticks(rotation=45)\n",
    "plt.show()"
   ]
  },
  {
   "cell_type": "code",
   "execution_count": 15,
   "metadata": {},
   "outputs": [
    {
     "data": {
      "image/png": "[encoded data removed]",
      "text/plain": [
       "<Figure size 1200x600 with 1 Axes>"
      ]
     },
     "metadata": {},
     "output_type": "display_data"
    }
   ],
   "source": [
    "transactions['TransactionMonth'] = transactions['TransactionDate'].dt.to_period('M')\n",
    "monthly_transactions = transactions.groupby('TransactionMonth').size()\n",
    "\n",
    "monthly_transactions.plot(kind='line', marker='o', figsize=(12, 6), title=\"Transactions Over Time\")\n",
    "plt.ylabel(\"Number of Transactions\")\n",
    "plt.xlabel(\"Month\")\n",
    "plt.show()"
   ]
  },
  {
   "cell_type": "code",
   "execution_count": 17,
   "metadata": {},
   "outputs": [
    {
     "name": "stdout",
     "output_type": "stream",
     "text": [
      "Revenue by Category:\n",
      " Category\n",
      "Books          192147.47\n",
      "Electronics    180783.50\n",
      "Clothing       166170.66\n",
      "Home Decor     150893.93\n",
      "Name: TotalValue, dtype: float64\n"
     ]
    }
   ],
   "source": [
    "category_revenue = merged_data.groupby('Category')['TotalValue'].sum().sort_values(ascending=False)\n",
    "print(\"Revenue by Category:\\n\", category_revenue)"
   ]
  },
  {
   "cell_type": "code",
   "execution_count": 18,
   "metadata": {},
   "outputs": [
    {
     "name": "stdout",
     "output_type": "stream",
     "text": [
      "Regional Customer Behavior:\n",
      "                TotalValue  TransactionID  AvgOrderValue\n",
      "Region                                                 \n",
      "Asia            152074.97            218     697.591606\n",
      "Europe          166254.63            234     710.489872\n",
      "North America   152313.40            244     624.235246\n",
      "South America   219352.56            304     721.554474\n"
     ]
    }
   ],
   "source": [
    "regional_analysis = merged_data.groupby('Region').agg({'TotalValue': 'sum', 'TransactionID': 'count'})\n",
    "regional_analysis['AvgOrderValue'] = regional_analysis['TotalValue'] / regional_analysis['TransactionID']\n",
    "print(\"Regional Customer Behavior:\\n\", regional_analysis)"
   ]
  },
  {
   "cell_type": "code",
   "execution_count": 19,
   "metadata": {},
   "outputs": [
    {
     "name": "stdout",
     "output_type": "stream",
     "text": [
      "Customer Signup Analysis:\n",
      " SignupDate\n",
      "2022    64\n",
      "2023    57\n",
      "2024    79\n",
      "dtype: int64\n"
     ]
    }
   ],
   "source": [
    "signup_analysis = customers.groupby(customers['SignupDate'].dt.year).size()\n",
    "print(\"Customer Signup Analysis:\\n\", signup_analysis)"
   ]
  },
  {
   "cell_type": "code",
   "execution_count": 20,
   "metadata": {},
   "outputs": [
    {
     "name": "stdout",
     "output_type": "stream",
     "text": [
      "Monthly Sales Trends:\n",
      " TransactionDate\n",
      "1     66376.39\n",
      "2     51459.27\n",
      "3     47828.73\n",
      "4     57519.06\n",
      "5     64527.74\n",
      "6     48771.18\n",
      "7     71366.39\n",
      "8     63436.74\n",
      "9     70603.75\n",
      "10    47063.22\n",
      "11    38224.37\n",
      "12    62818.72\n",
      "Name: TotalValue, dtype: float64\n"
     ]
    }
   ],
   "source": [
    "monthly_sales = transactions.groupby(transactions['TransactionDate'].dt.month)['TotalValue'].sum()\n",
    "print(\"Monthly Sales Trends:\\n\", monthly_sales)"
   ]
  },
  {
   "cell_type": "code",
   "execution_count": 21,
   "metadata": {},
   "outputs": [
    {
     "name": "stdout",
     "output_type": "stream",
     "text": [
      "Top Products by Revenue:\n",
      "                          Quantity  TotalValue\n",
      "ProductName                                  \n",
      "ActiveWear Smartwatch         100    39096.97\n",
      "SoundWave Headphones           97    25211.64\n",
      "SoundWave Novel                58    24507.90\n",
      "ActiveWear Jacket              76    22712.56\n",
      "ActiveWear Rug                 79    22314.43\n",
      "TechPro Headphones             45    19513.80\n",
      "BookWorld Cookbook             48    19221.99\n",
      "BookWorld Sweater              47    18743.79\n",
      "TechPro Textbook               62    18267.96\n",
      "ActiveWear Cookware Set        51    18083.73\n"
     ]
    }
   ],
   "source": [
    "top_products = merged_data.groupby('ProductName').agg({'Quantity': 'sum', 'TotalValue': 'sum'})\n",
    "top_products = top_products.sort_values(by='TotalValue', ascending=False).head(10)\n",
    "print(\"Top Products by Revenue:\\n\", top_products)"
   ]
  }
 ],
 "metadata": {
  "kernelspec": {
   "display_name": "Python 3",
   "language": "python",
   "name": "python3"
  },
  "language_info": {
   "codemirror_mode": {
    "name": "ipython",
    "version": 3
   },
   "file_extension": ".py",
   "mimetype": "text/x-python",
   "name": "python",
   "nbconvert_exporter": "python",
   "pygments_lexer": "ipython3",
   "version": "3.12.5"
  }
 },
 "nbformat": 4,
 "nbformat_minor": 2
}
